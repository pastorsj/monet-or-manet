{
 "cells": [
  {
   "cell_type": "markdown",
   "metadata": {},
   "source": [
    "# EDA"
   ]
  },
  {
   "cell_type": "code",
   "execution_count": 17,
   "metadata": {},
   "outputs": [],
   "source": [
    "import pandas as pd"
   ]
  },
  {
   "cell_type": "code",
   "execution_count": 18,
   "metadata": {},
   "outputs": [
    {
     "data": {
      "text/html": [
       "<div>\n",
       "<style scoped>\n",
       "    .dataframe tbody tr th:only-of-type {\n",
       "        vertical-align: middle;\n",
       "    }\n",
       "\n",
       "    .dataframe tbody tr th {\n",
       "        vertical-align: top;\n",
       "    }\n",
       "\n",
       "    .dataframe thead th {\n",
       "        text-align: right;\n",
       "    }\n",
       "</style>\n",
       "<table border=\"1\" class=\"dataframe\">\n",
       "  <thead>\n",
       "    <tr style=\"text-align: right;\">\n",
       "      <th></th>\n",
       "      <th>file</th>\n",
       "      <th>artist</th>\n",
       "      <th>genre</th>\n",
       "      <th>style</th>\n",
       "      <th>style_name</th>\n",
       "    </tr>\n",
       "  </thead>\n",
       "  <tbody>\n",
       "    <tr>\n",
       "      <th>0</th>\n",
       "      <td>vincent-van-gogh_pine-trees-in-the-fen-1884.jpg</td>\n",
       "      <td>22</td>\n",
       "      <td>133</td>\n",
       "      <td>161</td>\n",
       "      <td>Realism</td>\n",
       "    </tr>\n",
       "    <tr>\n",
       "      <th>1</th>\n",
       "      <td>rembrandt_the-angel-appearing-to-the-shepherds...</td>\n",
       "      <td>20</td>\n",
       "      <td>136</td>\n",
       "      <td>144</td>\n",
       "      <td>Baroque</td>\n",
       "    </tr>\n",
       "    <tr>\n",
       "      <th>2</th>\n",
       "      <td>paul-cezanne_portrait-of-the-artist-s-son.jpg</td>\n",
       "      <td>16</td>\n",
       "      <td>135</td>\n",
       "      <td>160</td>\n",
       "      <td>Post_Impressionism</td>\n",
       "    </tr>\n",
       "    <tr>\n",
       "      <th>3</th>\n",
       "      <td>pierre-auguste-renoir_young-girl-seated-in-a-m...</td>\n",
       "      <td>17</td>\n",
       "      <td>131</td>\n",
       "      <td>152</td>\n",
       "      <td>Impressionism</td>\n",
       "    </tr>\n",
       "    <tr>\n",
       "      <th>4</th>\n",
       "      <td>ivan-aivazovsky_morning-1851.jpg</td>\n",
       "      <td>9</td>\n",
       "      <td>139</td>\n",
       "      <td>163</td>\n",
       "      <td>Romanticism</td>\n",
       "    </tr>\n",
       "  </tbody>\n",
       "</table>\n",
       "</div>"
      ],
      "text/plain": [
       "                                                file  artist  genre  style  \\\n",
       "0    vincent-van-gogh_pine-trees-in-the-fen-1884.jpg      22    133    161   \n",
       "1  rembrandt_the-angel-appearing-to-the-shepherds...      20    136    144   \n",
       "2      paul-cezanne_portrait-of-the-artist-s-son.jpg      16    135    160   \n",
       "3  pierre-auguste-renoir_young-girl-seated-in-a-m...      17    131    152   \n",
       "4                   ivan-aivazovsky_morning-1851.jpg       9    139    163   \n",
       "\n",
       "           style_name  \n",
       "0             Realism  \n",
       "1             Baroque  \n",
       "2  Post_Impressionism  \n",
       "3       Impressionism  \n",
       "4         Romanticism  "
      ]
     },
     "execution_count": 18,
     "metadata": {},
     "output_type": "execute_result"
    }
   ],
   "source": [
    "wikiart_metadata_df = pd.read_csv('wclasses.csv')\n",
    "wikiart_metadata_df[['style_name', 'file']] = wikiart_metadata_df['file'].str.split('/', expand=True)\n",
    "wikiart_metadata_df.head()"
   ]
  },
  {
   "cell_type": "markdown",
   "metadata": {},
   "source": [
    "# Learning more about the artists"
   ]
  },
  {
   "cell_type": "code",
   "execution_count": 19,
   "metadata": {},
   "outputs": [
    {
     "data": {
      "text/html": [
       "<div>\n",
       "<style scoped>\n",
       "    .dataframe tbody tr th:only-of-type {\n",
       "        vertical-align: middle;\n",
       "    }\n",
       "\n",
       "    .dataframe tbody tr th {\n",
       "        vertical-align: top;\n",
       "    }\n",
       "\n",
       "    .dataframe thead th {\n",
       "        text-align: right;\n",
       "    }\n",
       "</style>\n",
       "<table border=\"1\" class=\"dataframe\">\n",
       "  <thead>\n",
       "    <tr style=\"text-align: right;\">\n",
       "      <th></th>\n",
       "      <th>file</th>\n",
       "      <th>artist</th>\n",
       "      <th>genre</th>\n",
       "      <th>style</th>\n",
       "      <th>style_name</th>\n",
       "      <th>artist_name</th>\n",
       "    </tr>\n",
       "  </thead>\n",
       "  <tbody>\n",
       "    <tr>\n",
       "      <th>0</th>\n",
       "      <td>vincent-van-gogh_pine-trees-in-the-fen-1884.jpg</td>\n",
       "      <td>22</td>\n",
       "      <td>133</td>\n",
       "      <td>161</td>\n",
       "      <td>Realism</td>\n",
       "      <td>Vincent Van Gogh</td>\n",
       "    </tr>\n",
       "    <tr>\n",
       "      <th>1</th>\n",
       "      <td>rembrandt_the-angel-appearing-to-the-shepherds...</td>\n",
       "      <td>20</td>\n",
       "      <td>136</td>\n",
       "      <td>144</td>\n",
       "      <td>Baroque</td>\n",
       "      <td>Rembrandt</td>\n",
       "    </tr>\n",
       "    <tr>\n",
       "      <th>2</th>\n",
       "      <td>paul-cezanne_portrait-of-the-artist-s-son.jpg</td>\n",
       "      <td>16</td>\n",
       "      <td>135</td>\n",
       "      <td>160</td>\n",
       "      <td>Post_Impressionism</td>\n",
       "      <td>Paul Cezanne</td>\n",
       "    </tr>\n",
       "    <tr>\n",
       "      <th>3</th>\n",
       "      <td>pierre-auguste-renoir_young-girl-seated-in-a-m...</td>\n",
       "      <td>17</td>\n",
       "      <td>131</td>\n",
       "      <td>152</td>\n",
       "      <td>Impressionism</td>\n",
       "      <td>Pierre Auguste Renoir</td>\n",
       "    </tr>\n",
       "    <tr>\n",
       "      <th>4</th>\n",
       "      <td>ivan-aivazovsky_morning-1851.jpg</td>\n",
       "      <td>9</td>\n",
       "      <td>139</td>\n",
       "      <td>163</td>\n",
       "      <td>Romanticism</td>\n",
       "      <td>Ivan Aivazovsky</td>\n",
       "    </tr>\n",
       "  </tbody>\n",
       "</table>\n",
       "</div>"
      ],
      "text/plain": [
       "                                                file  artist  genre  style  \\\n",
       "0    vincent-van-gogh_pine-trees-in-the-fen-1884.jpg      22    133    161   \n",
       "1  rembrandt_the-angel-appearing-to-the-shepherds...      20    136    144   \n",
       "2      paul-cezanne_portrait-of-the-artist-s-son.jpg      16    135    160   \n",
       "3  pierre-auguste-renoir_young-girl-seated-in-a-m...      17    131    152   \n",
       "4                   ivan-aivazovsky_morning-1851.jpg       9    139    163   \n",
       "\n",
       "           style_name            artist_name  \n",
       "0             Realism       Vincent Van Gogh  \n",
       "1             Baroque              Rembrandt  \n",
       "2  Post_Impressionism           Paul Cezanne  \n",
       "3       Impressionism  Pierre Auguste Renoir  \n",
       "4         Romanticism        Ivan Aivazovsky  "
      ]
     },
     "execution_count": 19,
     "metadata": {},
     "output_type": "execute_result"
    }
   ],
   "source": [
    "test = 'vincent-van-gogh_pine-trees-in-the-fen-1884.jpg'\n",
    "artist = ' '.join(test.split('_')[0].split('-')).title()\n",
    "title = ' '.join(test.split('_')[1].replace('.jpg', '').split('-')).title()\n",
    "artist\n",
    "# title\n",
    "wikiart_metadata_df['artist_name'] = wikiart_metadata_df['file'].apply(lambda x: x.split('_')[0].replace('-', ' ').title())\n",
    "wikiart_metadata_df.head()"
   ]
  },
  {
   "cell_type": "code",
   "execution_count": 20,
   "metadata": {},
   "outputs": [
    {
     "data": {
      "text/plain": [
       "array(['Vincent Van Gogh', 'Rembrandt', 'Paul Cezanne', ...,\n",
       "       'Isa Genzken', 'James Turrell', 'Frida Kahlo'], dtype=object)"
      ]
     },
     "execution_count": 20,
     "metadata": {},
     "output_type": "execute_result"
    }
   ],
   "source": [
    "wikiart_metadata_df['artist_name'].unique()"
   ]
  },
  {
   "cell_type": "code",
   "execution_count": 21,
   "metadata": {},
   "outputs": [
    {
     "data": {
      "text/plain": [
       "1119"
      ]
     },
     "execution_count": 21,
     "metadata": {},
     "output_type": "execute_result"
    }
   ],
   "source": [
    "wikiart_metadata_df['artist_name'].nunique()"
   ]
  },
  {
   "cell_type": "markdown",
   "metadata": {},
   "source": [
    "# Learn more about genres"
   ]
  },
  {
   "cell_type": "code",
   "execution_count": 23,
   "metadata": {},
   "outputs": [
    {
     "data": {
      "text/plain": [
       "array([133, 136, 135, 131, 139, 138, 137, 132, 130, 134, 129])"
      ]
     },
     "execution_count": 23,
     "metadata": {},
     "output_type": "execute_result"
    }
   ],
   "source": [
    "wikiart_metadata_df['genre'].nunique()"
   ]
  }
 ],
 "metadata": {
  "kernelspec": {
   "display_name": "Python 3.8.13 ('ml3')",
   "language": "python",
   "name": "python3"
  },
  "language_info": {
   "codemirror_mode": {
    "name": "ipython",
    "version": 3
   },
   "file_extension": ".py",
   "mimetype": "text/x-python",
   "name": "python",
   "nbconvert_exporter": "python",
   "pygments_lexer": "ipython3",
   "version": "3.8.13"
  },
  "orig_nbformat": 4,
  "vscode": {
   "interpreter": {
    "hash": "feb5d1ce4bf892f7502df07992ce194f82609488c43f57a1a953b1f07ddac688"
   }
  }
 },
 "nbformat": 4,
 "nbformat_minor": 2
}
